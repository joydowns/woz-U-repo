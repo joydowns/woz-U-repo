{
 "cells": [
  {
   "cell_type": "code",
   "execution_count": 2,
   "id": "d51fc7cc",
   "metadata": {},
   "outputs": [
    {
     "ename": "NameError",
     "evalue": "name 'BisonTracking' is not defined",
     "output_type": "error",
     "traceback": [
      "\u001b[1;31m---------------------------------------------------------------------------\u001b[0m",
      "\u001b[1;31mNameError\u001b[0m                                 Traceback (most recent call last)",
      "Cell \u001b[1;32mIn[2], line 1\u001b[0m\n\u001b[1;32m----> 1\u001b[0m \u001b[43mBisonTracking\u001b[49m\u001b[38;5;241m.\u001b[39mhead()\n",
      "\u001b[1;31mNameError\u001b[0m: name 'BisonTracking' is not defined"
     ]
    }
   ],
   "source": [
    "BisonTracking.head()"
   ]
  },
  {
   "cell_type": "code",
   "execution_count": 3,
   "id": "9b3be51d",
   "metadata": {},
   "outputs": [
    {
     "ename": "NameError",
     "evalue": "name 'BisonTracking' is not defined",
     "output_type": "error",
     "traceback": [
      "\u001b[1;31m---------------------------------------------------------------------------\u001b[0m",
      "\u001b[1;31mNameError\u001b[0m                                 Traceback (most recent call last)",
      "Cell \u001b[1;32mIn[3], line 1\u001b[0m\n\u001b[1;32m----> 1\u001b[0m \u001b[43mBisonTracking\u001b[49m\u001b[38;5;241m.\u001b[39mtail()\n",
      "\u001b[1;31mNameError\u001b[0m: name 'BisonTracking' is not defined"
     ]
    }
   ],
   "source": [
    "BisonTracking.tail()"
   ]
  },
  {
   "cell_type": "code",
   "execution_count": 4,
   "id": "8020e3d2",
   "metadata": {},
   "outputs": [
    {
     "ename": "NameError",
     "evalue": "name 'BisonTracking' is not defined",
     "output_type": "error",
     "traceback": [
      "\u001b[1;31m---------------------------------------------------------------------------\u001b[0m",
      "\u001b[1;31mNameError\u001b[0m                                 Traceback (most recent call last)",
      "Cell \u001b[1;32mIn[4], line 1\u001b[0m\n\u001b[1;32m----> 1\u001b[0m \u001b[38;5;28mlen\u001b[39m(\u001b[43mBisonTracking\u001b[49m)\n",
      "\u001b[1;31mNameError\u001b[0m: name 'BisonTracking' is not defined"
     ]
    }
   ],
   "source": [
    "len(BisonTracking)"
   ]
  },
  {
   "cell_type": "code",
   "execution_count": 5,
   "id": "ae1b7935",
   "metadata": {},
   "outputs": [
    {
     "ename": "NameError",
     "evalue": "name 'BisonTracking' is not defined",
     "output_type": "error",
     "traceback": [
      "\u001b[1;31m---------------------------------------------------------------------------\u001b[0m",
      "\u001b[1;31mNameError\u001b[0m                                 Traceback (most recent call last)",
      "Cell \u001b[1;32mIn[5], line 1\u001b[0m\n\u001b[1;32m----> 1\u001b[0m \u001b[43mBisonTracking\u001b[49m\u001b[38;5;241m.\u001b[39mhead(\u001b[38;5;241m7\u001b[39m)\n",
      "\u001b[1;31mNameError\u001b[0m: name 'BisonTracking' is not defined"
     ]
    }
   ],
   "source": [
    "BisonTracking.head(7)"
   ]
  },
  {
   "cell_type": "code",
   "execution_count": 6,
   "id": "c6c89473",
   "metadata": {},
   "outputs": [
    {
     "ename": "NameError",
     "evalue": "name 'BisonTracking' is not defined",
     "output_type": "error",
     "traceback": [
      "\u001b[1;31m---------------------------------------------------------------------------\u001b[0m",
      "\u001b[1;31mNameError\u001b[0m                                 Traceback (most recent call last)",
      "Cell \u001b[1;32mIn[6], line 1\u001b[0m\n\u001b[1;32m----> 1\u001b[0m \u001b[43mBisonTracking\u001b[49m\u001b[38;5;241m.\u001b[39mtail(\u001b[38;5;241m10\u001b[39m)\n",
      "\u001b[1;31mNameError\u001b[0m: name 'BisonTracking' is not defined"
     ]
    }
   ],
   "source": [
    "BisonTracking.tail(10)"
   ]
  },
  {
   "cell_type": "code",
   "execution_count": 7,
   "id": "40fb92f3",
   "metadata": {},
   "outputs": [
    {
     "ename": "NameError",
     "evalue": "name 'BisonTracking' is not defined",
     "output_type": "error",
     "traceback": [
      "\u001b[1;31m---------------------------------------------------------------------------\u001b[0m",
      "\u001b[1;31mNameError\u001b[0m                                 Traceback (most recent call last)",
      "Cell \u001b[1;32mIn[7], line 1\u001b[0m\n\u001b[1;32m----> 1\u001b[0m \u001b[38;5;28mlen\u001b[39m(\u001b[43mBisonTracking\u001b[49m)\n",
      "\u001b[1;31mNameError\u001b[0m: name 'BisonTracking' is not defined"
     ]
    }
   ],
   "source": [
    "len(BisonTracking)"
   ]
  },
  {
   "cell_type": "markdown",
   "id": "214d73d8",
   "metadata": {},
   "source": []
  }
 ],
 "metadata": {
  "kernelspec": {
   "display_name": "Python 3 (ipykernel)",
   "language": "python",
   "name": "python3"
  },
  "language_info": {
   "codemirror_mode": {
    "name": "ipython",
    "version": 3
   },
   "file_extension": ".py",
   "mimetype": "text/x-python",
   "name": "python",
   "nbconvert_exporter": "python",
   "pygments_lexer": "ipython3",
   "version": "3.11.0"
  }
 },
 "nbformat": 4,
 "nbformat_minor": 5
}
